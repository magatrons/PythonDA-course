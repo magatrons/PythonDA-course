{
  "cells": [
    {
      "cell_type": "markdown",
      "metadata": {
        "id": "view-in-github",
        "colab_type": "text"
      },
      "source": [
        "<a href=\"https://colab.research.google.com/github/shiftkey-labs/PythonDA-course/blob/main/Week_3_%26_4_Pandas%2C_NumPy%2C_Matplotlib.ipynb\" target=\"_parent\"><img src=\"https://colab.research.google.com/assets/colab-badge.svg\" alt=\"Open In Colab\"/></a>"
      ]
    },
    {
      "cell_type": "markdown",
      "source": [
        "#**ShiftKey Labs Academy UP - Foundations of Data Analytics with Python**\n",
        "\n",
        "Certification by ShiftKey Labs. Content created by Sahil Chawla.\n",
        "\n",
        "---\n",
        "\n",
        "Throughout the course, we'll use Google Colab to write Python code, explore essential programming concepts, and dive into data manipulation, analysis, and visualization using popular libraries like Pandas, NumPy, and Matplotlib. Each session will build upon the previous, and the notebook will be updated with answers and solutions as we progress through the course."
      ],
      "metadata": {
        "id": "TKqMg7FJVD7J"
      },
      "id": "TKqMg7FJVD7J"
    },
    {
      "cell_type": "markdown",
      "id": "446dfc11",
      "metadata": {
        "id": "446dfc11"
      },
      "source": [
        "# Week 3 - Introduction to Pandas\n",
        "\n",
        "Pandas is a powerful data analysis and manipulation library built on top of Python.\n",
        "\n",
        "It provides essential data structures like **Series** and **DataFrame** to work with tabular data efficiently."
      ]
    },
    {
      "cell_type": "markdown",
      "id": "bdf12c71",
      "metadata": {
        "id": "bdf12c71"
      },
      "source": [
        "## Section 1: Introduction to Pandas\n"
      ]
    },
    {
      "cell_type": "markdown",
      "source": [
        "### 1.1 Importing libraries\n",
        "\n"
      ],
      "metadata": {
        "id": "HZiTW2TCbLK4"
      },
      "id": "HZiTW2TCbLK4"
    },
    {
      "cell_type": "code",
      "source": [
        "# Importing the Pandas Library\n",
        "import pandas as pd"
      ],
      "metadata": {
        "id": "EvpKOf959Sw1"
      },
      "id": "EvpKOf959Sw1",
      "execution_count": null,
      "outputs": []
    },
    {
      "cell_type": "markdown",
      "source": [
        "### 1.2 Series\n",
        "A **Series** is a one-dimensional labeled array capable of holding any data type.\n",
        "\n",
        "Think of it like a column in a spreadsheet.\n",
        "\n",
        "- Creating a series\n",
        "  \n",
        "    Syntax: `series_name = pd.series(list_name)`\n",
        "- Accessing elements\n",
        "\n",
        "    Syntax: `series_name[index]`\n",
        "\n",
        "\n",
        "\n"
      ],
      "metadata": {
        "id": "UgPT1HZLbLDx"
      },
      "id": "UgPT1HZLbLDx"
    },
    {
      "cell_type": "code",
      "source": [
        "# Creating a Series from a list\n",
        "num_list = [10, 20, 30, 40]\n",
        "numbers = pd.Series(num_list)\n",
        "print(numbers)"
      ],
      "metadata": {
        "id": "yK5gJN97-2IX"
      },
      "id": "yK5gJN97-2IX",
      "execution_count": null,
      "outputs": []
    },
    {
      "cell_type": "code",
      "source": [
        "print(numbers[0])\n",
        "print(numbers[0:4])"
      ],
      "metadata": {
        "id": "xE6kcfkO_RoF"
      },
      "id": "xE6kcfkO_RoF",
      "execution_count": null,
      "outputs": []
    },
    {
      "cell_type": "markdown",
      "source": [
        "### 1.3 DataFrame\n",
        "A DataFrame is a two-dimensional labeled data structure with columns of potentially different data types. It is like a table in a database or an Excel spreadsheet.\n",
        "\n",
        "- Creating a DataFrame:\n",
        "  \n",
        "    Syntax: `df = pd.DataFrame(dict_name)`\n",
        "- Accessing Columns:\n",
        "  \n",
        "    Syntax: `df[\"Column_Name\"]`\n",
        "- Accessing rows:\n",
        "  - `loc` gets rows (and/or columns) with particular labels.\n",
        "\n",
        "    Syntax: `df.loc[0] # value at index label 0`\n",
        "\n",
        "  - `iloc` gets rows (and/or columns) at integer locations.\n",
        "\n",
        "    Syntax: `df.iloc[0]   # value at index location 0`\n",
        "\n",
        "\n"
      ],
      "metadata": {
        "id": "FgoHTQxybK9A"
      },
      "id": "FgoHTQxybK9A"
    },
    {
      "cell_type": "code",
      "source": [
        "data = {\n",
        "    \"Name\": [\"Alice\", \"Bob\", \"Charlie\"],\n",
        "    \"Age\": [24, 27, 22],\n",
        "    \"City\": [\"New York\", \"San Francisco\", \"Boston\"]\n",
        "}"
      ],
      "metadata": {
        "id": "R3_agB79RQ1o"
      },
      "id": "R3_agB79RQ1o",
      "execution_count": null,
      "outputs": []
    },
    {
      "cell_type": "code",
      "source": [
        "# Creating a DataFrame from a Dictionary\n",
        "df = pd.DataFrame(data, index = [3,1,2])\n",
        "print(\"\\n People dataframe:\\n\\n\", df)"
      ],
      "metadata": {
        "id": "1NJsP8GYRqD9"
      },
      "id": "1NJsP8GYRqD9",
      "execution_count": null,
      "outputs": []
    },
    {
      "cell_type": "code",
      "source": [
        "# Accessing Columns\n",
        "# Name column\n",
        "name = df[\"Name\"]\n",
        "print(\"\\nAccessing 'Name' column:\\n\\n\", name)\n",
        "\n",
        "# Age column\n",
        "print(\"\\nAccessing 'Age' column:\\n\\n\", df[\"Age\"])"
      ],
      "metadata": {
        "id": "HiIX_ye-RucT"
      },
      "id": "HiIX_ye-RucT",
      "execution_count": null,
      "outputs": []
    },
    {
      "cell_type": "code",
      "source": [
        "df\n",
        "df[\"Age\"]"
      ],
      "metadata": {
        "id": "nr5UXfwPWKrg"
      },
      "id": "nr5UXfwPWKrg",
      "execution_count": null,
      "outputs": []
    },
    {
      "cell_type": "code",
      "source": [
        "# Accessing Rows using .iloc and .loc\n",
        "# iloc uses the integer index position\n",
        "print(\"\\nAccessing row using iloc:\\n\", df.iloc[0])\n",
        "\n",
        "# loc uses the assigned position\n",
        "print(\"\\nAccessing row using loc:\\n\", df.loc[1])"
      ],
      "metadata": {
        "id": "yVli1zKJSn0E"
      },
      "id": "yVli1zKJSn0E",
      "execution_count": null,
      "outputs": []
    },
    {
      "cell_type": "markdown",
      "source": [
        "## Section 2: DataFrame Operations\n",
        "\n",
        "To illustrate DataFrame operations and data manipulation with a real dataset, let's use a commonly available dataset like the **Iris dataset**. It is a well-known dataset containing measurements of different species of the Iris flower.\n",
        "\n",
        "The Iris dataset contains 150 rows and 5 columns:\n",
        "\n",
        "1. sepal.length: Sepal length in centimeters.\n",
        "2. sepal.width: Sepal width in centimeters.\n",
        "3. petal.length: Petal length in centimeters.\n",
        "4. petal.width: Petal width in centimeters.\n",
        "5. variety: Species of the flower (Setosa, Versicolor, or Virginica)."
      ],
      "metadata": {
        "id": "FtLBjFqP88Nh"
      },
      "id": "FtLBjFqP88Nh"
    },
    {
      "cell_type": "markdown",
      "source": [
        "### 2.1 Importing Data\n",
        "\n",
        "1. Using upload() function\n",
        "\n",
        "```\n",
        "from google.colab import files\n",
        "uploaded = files.upload()\n",
        "```\n",
        "\n",
        "2. Manually importing data\n",
        "- Click on directory icon\n",
        "- Click on the upload button\n",
        "- Select the file and click open\n"
      ],
      "metadata": {
        "id": "7MJNdzUS9Ivs"
      },
      "id": "7MJNdzUS9Ivs"
    },
    {
      "cell_type": "code",
      "source": [
        "from google.colab import files\n",
        "uploaded = files.upload()"
      ],
      "metadata": {
        "id": "E-OSs9j-XOHP"
      },
      "id": "E-OSs9j-XOHP",
      "execution_count": null,
      "outputs": []
    },
    {
      "cell_type": "markdown",
      "source": [
        "### 2.2 Reading Data\n",
        "\n",
        "Read a file from a given path or URL and loads it into a DataFrame. This function is the most common way to read data into a Pandas DataFrame.\n",
        "\n",
        "Reading a CSV File (Use a .CSV file path if available)\n",
        "\n",
        "Syntax:  `df = pd.read_csv(\"data.csv\")`\n",
        "\n",
        "Reading an Excel File (Use a .xls file path if available)\n",
        "\n",
        "Syntax:  `df = pd.read_excel(\"data.xls\")`"
      ],
      "metadata": {
        "id": "vogPCFQdWtom"
      },
      "id": "vogPCFQdWtom"
    },
    {
      "cell_type": "code",
      "source": [
        "df = pd.read_csv(\"iris (1).csv\")"
      ],
      "metadata": {
        "id": "Brc97nB-XQON"
      },
      "id": "Brc97nB-XQON",
      "execution_count": null,
      "outputs": []
    },
    {
      "cell_type": "markdown",
      "source": [
        "### 2.3 Exploring and Analyzing Data\n",
        "\n",
        "1. Viewing the first few rows - ```head()``` function\n",
        "2. Viewing the last few rows - ```tail()``` function\n",
        "3. Retrive basic information (Column names, null values in each column and DataType of each column) - ```info()``` function\n",
        "4. Statistical Summary of Numerical Columns - ```describe()``` function"
      ],
      "metadata": {
        "id": "4UInm0pZpbSU"
      },
      "id": "4UInm0pZpbSU"
    },
    {
      "cell_type": "code",
      "source": [
        "# First few rows\n",
        "print(\"First few rows of Iris dataframe:\\n\")\n",
        "head_rows = df.head()\n",
        "head_rows"
      ],
      "metadata": {
        "id": "88Srx0edpaiM"
      },
      "id": "88Srx0edpaiM",
      "execution_count": null,
      "outputs": []
    },
    {
      "cell_type": "code",
      "source": [
        "# First n rows\n",
        "print(\"First 15 rows of Iris dataframe:\\n\")\n",
        "head_15_rows = df.head(15)\n",
        "head_15_rows"
      ],
      "metadata": {
        "id": "bLy3dkg2ryFw"
      },
      "id": "bLy3dkg2ryFw",
      "execution_count": null,
      "outputs": []
    },
    {
      "cell_type": "code",
      "source": [
        "# Last few rows\n",
        "print(\"Last few rows of Iris dataframe:\\n\")\n",
        "tail_rows = df.tail()\n",
        "tail_rows"
      ],
      "metadata": {
        "id": "TzY3Q1FEr2j1"
      },
      "id": "TzY3Q1FEr2j1",
      "execution_count": null,
      "outputs": []
    },
    {
      "cell_type": "code",
      "source": [
        "# Last n rows\n",
        "print(\"Last 2 rows of Iris dataframe:\\n\")\n",
        "df.tail(2)"
      ],
      "metadata": {
        "id": "0KlUA4iWsEKz"
      },
      "id": "0KlUA4iWsEKz",
      "execution_count": null,
      "outputs": []
    },
    {
      "cell_type": "code",
      "source": [
        "# Information about the DataFrame\n",
        "print(\"Basic DataFrame information:\\n\")\n",
        "df.info()"
      ],
      "metadata": {
        "id": "cLgYqffJsjgw"
      },
      "id": "cLgYqffJsjgw",
      "execution_count": null,
      "outputs": []
    },
    {
      "cell_type": "code",
      "source": [
        "# Summary for numerical columns\n",
        "print(\"\\nStatistical summary:\\n\")\n",
        "df.describe()"
      ],
      "metadata": {
        "id": "h0RgTa3Ds9hi"
      },
      "id": "h0RgTa3Ds9hi",
      "execution_count": null,
      "outputs": []
    },
    {
      "cell_type": "markdown",
      "source": [
        "### 2.4 Selecting and Filtering Data\n",
        "\n",
        "1. Selecting columns: This is done by passing a list of column names to the DataFrame.\n",
        "\n",
        "   ```name = df[[\"col1\", \"col2\"]]```\n",
        "\n",
        "2. Filtering Rows Based on Condition\n",
        "  \n",
        "  ``` name = df[df[\"col\"] condition]```\n",
        "\n",
        "3. Fltering Rows Based on Multiple Conditions: Multiple conditions can be combined using logical operators (& for and, | for or) to filter rows that meet specific criteria. The conditions must be enclosed in parentheses ()\n",
        "\n",
        "  ``` name = df[(df[\"col\"] condition) operator (df[\"col\"] condition)]```\n"
      ],
      "metadata": {
        "id": "uJDAsOC4tjep"
      },
      "id": "uJDAsOC4tjep"
    },
    {
      "cell_type": "code",
      "source": [
        "# Selecting sepal.length and variety column\n",
        "\n",
        "cols = df[[\"sepal.length\", \"variety\"]]\n",
        "cols"
      ],
      "metadata": {
        "id": "kxaPRnvhtisS"
      },
      "id": "kxaPRnvhtisS",
      "execution_count": null,
      "outputs": []
    },
    {
      "cell_type": "code",
      "source": [
        "# Filtering rows based on single condition\n",
        "\n",
        "filtered_df_seplen = df[df[\"sepal.length\"] > 5.5]\n",
        "print(\"\\nRows where Sepal Length > 5.5:\\n\")\n",
        "filtered_df_seplen"
      ],
      "metadata": {
        "id": "Z1OdEXWfv27z"
      },
      "id": "Z1OdEXWfv27z",
      "execution_count": null,
      "outputs": []
    },
    {
      "cell_type": "code",
      "source": [
        "# Filtering Rows Based on Multiple Conditions\n",
        "\n",
        "filtered_setosa = df[(df[\"sepal.length\"] > 5.5) & (df[\"variety\"] == \"Setosa\")]\n",
        "print(\"\\nRows with Sepal Length > 5.5 and Variety 'setosa':\\n\")\n",
        "filtered_setosa"
      ],
      "metadata": {
        "id": "7MmXY_uSwsFQ"
      },
      "id": "7MmXY_uSwsFQ",
      "execution_count": null,
      "outputs": []
    },
    {
      "cell_type": "markdown",
      "source": [
        "### 2.5 Sorting and Renaming\n",
        "\n",
        "1. Sorting Data by a Column: The ```sort_values()``` function sorts the DataFrame by a specified column. Optional parameter can be added, reference [`sort_values()` documentation](https://pandas.pydata.org/docs/reference/api/pandas.DataFrame.sort_values.html)\n",
        "\n",
        "  Syntax: `name = df.sort_values(by=\"col_name\", parameter)`\n",
        "\n",
        "2. Renaming Columns: Changes the name of one or more columns. The `inplace=True` parameter modifies the DataFrame in place without creating a copy.\n",
        "\n",
        "  Syntax: df.rename(columns={\"Old name\": \"New name\"}, inplace=True)\n",
        "\n"
      ],
      "metadata": {
        "id": "MeDFgsPBxP8h"
      },
      "id": "MeDFgsPBxP8h"
    },
    {
      "cell_type": "code",
      "source": [
        "# Sorting Data by Petal Width in ascending order\n",
        "sorted_df = df.sort_values(by=\"petal.width\", ascending=True)\n",
        "print(\"\\nDataFrame sorted by Petal Width in ascending order:\\n\")\n",
        "sorted_df"
      ],
      "metadata": {
        "id": "aCwy2Nb1yHK4"
      },
      "id": "aCwy2Nb1yHK4",
      "execution_count": null,
      "outputs": []
    },
    {
      "cell_type": "code",
      "source": [
        "# Sorting Data by Petal Width in descending order\n",
        "sorted_df = df.sort_values(by=\"petal.width\", ascending=False)\n",
        "print(\"\\nDataFrame sorted by Petal Width in descending order:\\n\")\n",
        "sorted_df"
      ],
      "metadata": {
        "id": "-w8kJIKPyV0E"
      },
      "id": "-w8kJIKPyV0E",
      "execution_count": null,
      "outputs": []
    },
    {
      "cell_type": "markdown",
      "source": [
        "## Section 3: Data Manipulation with Pandas"
      ],
      "metadata": {
        "id": "OvXt2Uix0RDx"
      },
      "id": "OvXt2Uix0RDx"
    },
    {
      "cell_type": "markdown",
      "source": [
        "### 3.1 Adding New Columns"
      ],
      "metadata": {
        "id": "fw2cTXUt0XqK"
      },
      "id": "fw2cTXUt0XqK"
    },
    {
      "cell_type": "code",
      "source": [
        "# Creating a New Column for Sepal Area\n",
        "df[\"Sepal Area (cm^2)\"] = df[\"sepal.length\"] * df[\"sepal.width\"]\n",
        "print(\"\\nDataFrame with new column 'Sepal Area (cm^2)':\\n\")\n",
        "df"
      ],
      "metadata": {
        "id": "AERLgTvN0gvM"
      },
      "id": "AERLgTvN0gvM",
      "execution_count": null,
      "outputs": []
    },
    {
      "cell_type": "markdown",
      "source": [
        "### 3.2 Grouping Data\n",
        "\n",
        "1. `groupby()`: Groups data based on a specific column.\n",
        "  \n",
        "  Syntax: `name = df.groupby(\"column_name\")`\n",
        "2. `mean()`: Calculates the mean of all numerical columns for each group.\n",
        "\n",
        "3. `count()`: Counts the number of non-zero rows"
      ],
      "metadata": {
        "id": "fV8d5_HI0598"
      },
      "id": "fV8d5_HI0598"
    },
    {
      "cell_type": "code",
      "source": [
        "# Grouping and Aggregating by Species\n",
        "grouped_data = df.groupby(\"variety\").count()\n",
        "print(\"\\nGrouped data by 'Variety' (Average values):\\n\")\n",
        "grouped_data"
      ],
      "metadata": {
        "id": "s8hDBO301n-G"
      },
      "id": "s8hDBO301n-G",
      "execution_count": null,
      "outputs": []
    },
    {
      "cell_type": "markdown",
      "source": [
        "### 3.3 Get total number of null values in every column\n",
        "\n",
        "The `isna()` function is used to calculate if the value in that column-row is a null value, return True if value is null else False if not null.\n",
        "\n",
        "\n",
        "\n"
      ],
      "metadata": {
        "id": "wYpKpac02rYL"
      },
      "id": "wYpKpac02rYL"
    },
    {
      "cell_type": "code",
      "source": [
        "# Individual data entry\n",
        "df.isna()"
      ],
      "metadata": {
        "id": "xzJdOBL95cug"
      },
      "id": "xzJdOBL95cug",
      "execution_count": null,
      "outputs": []
    },
    {
      "cell_type": "code",
      "source": [
        "df.isna().sum()"
      ],
      "metadata": {
        "id": "_sw3_VOu5tKq"
      },
      "id": "_sw3_VOu5tKq",
      "execution_count": null,
      "outputs": []
    },
    {
      "cell_type": "markdown",
      "source": [
        "### 3.4 Remove null values\n",
        "\n",
        "Using `dropna()` function\n",
        "\n"
      ],
      "metadata": {
        "id": "N2gZpQlE5D-U"
      },
      "id": "N2gZpQlE5D-U"
    },
    {
      "cell_type": "markdown",
      "source": [
        "### 3.5 Replace null values\n",
        "\n",
        "Using `fillna()` function"
      ],
      "metadata": {
        "id": "X2BykBFE6cuZ"
      },
      "id": "X2BykBFE6cuZ"
    },
    {
      "cell_type": "markdown",
      "source": [
        "## Practice Questions - 1"
      ],
      "metadata": {
        "id": "CR2cDMfg6dgT"
      },
      "id": "CR2cDMfg6dgT"
    },
    {
      "cell_type": "markdown",
      "source": [
        "#### 1. Extract only the columns \"sepal length\" and \"petal length\" from the dataset.\n",
        "\n"
      ],
      "metadata": {
        "id": "VwJEdjcu69mf"
      },
      "id": "VwJEdjcu69mf"
    },
    {
      "cell_type": "code",
      "source": [],
      "metadata": {
        "id": "T0IAIaQE6cgJ"
      },
      "id": "T0IAIaQE6cgJ",
      "execution_count": null,
      "outputs": []
    },
    {
      "cell_type": "markdown",
      "source": [
        "#### 2. Filter rows where \"sepal_length\" is greater than 6.0 and \"petal_width\" is less than 2.0."
      ],
      "metadata": {
        "id": "1_br0ftB7E1-"
      },
      "id": "1_br0ftB7E1-"
    },
    {
      "cell_type": "code",
      "source": [
        "\n"
      ],
      "metadata": {
        "id": "Df3IFkmS7L6j"
      },
      "id": "Df3IFkmS7L6j",
      "execution_count": null,
      "outputs": []
    },
    {
      "cell_type": "markdown",
      "source": [
        "#### 3. Sort the dataset by \"sepal_width\" in ascending order and display the first five rows."
      ],
      "metadata": {
        "id": "XalaTUgZ7Nyg"
      },
      "id": "XalaTUgZ7Nyg"
    },
    {
      "cell_type": "code",
      "source": [
        "\n"
      ],
      "metadata": {
        "id": "xDDhBhaX7QN-"
      },
      "id": "xDDhBhaX7QN-",
      "execution_count": null,
      "outputs": []
    },
    {
      "cell_type": "markdown",
      "source": [
        "#### 4. Rename all the column to look like \"petal_length\" -> \"Petal Length (cm)\""
      ],
      "metadata": {
        "id": "Gq8jWv237SKa"
      },
      "id": "Gq8jWv237SKa"
    },
    {
      "cell_type": "code",
      "source": [
        "\n"
      ],
      "metadata": {
        "id": "0qQTS4sR7R6s"
      },
      "id": "0qQTS4sR7R6s",
      "execution_count": null,
      "outputs": []
    },
    {
      "cell_type": "markdown",
      "source": [
        "#### 5. Create a new column \"Sepal Ratio\" which is the ratio of \"sepal_length\" to \"sepal_width\".\n",
        "\n"
      ],
      "metadata": {
        "id": "xSQq0gNa7bfP"
      },
      "id": "xSQq0gNa7bfP"
    },
    {
      "cell_type": "code",
      "source": [
        "\n"
      ],
      "metadata": {
        "id": "ncUxhzq-7eWU"
      },
      "id": "ncUxhzq-7eWU",
      "execution_count": null,
      "outputs": []
    },
    {
      "cell_type": "markdown",
      "source": [
        "#### 6. Group the data by \"variety\" and calculate the average \"sepal_length\" for each group.\n",
        "\n"
      ],
      "metadata": {
        "id": "O7bLRYQA7eGp"
      },
      "id": "O7bLRYQA7eGp"
    },
    {
      "cell_type": "code",
      "source": [],
      "metadata": {
        "id": "tak7Yyit7u9d"
      },
      "id": "tak7Yyit7u9d",
      "execution_count": null,
      "outputs": []
    }
  ],
  "metadata": {
    "colab": {
      "provenance": [],
      "collapsed_sections": [
        "HZiTW2TCbLK4",
        "UgPT1HZLbLDx",
        "7MJNdzUS9Ivs"
      ],
      "toc_visible": true,
      "include_colab_link": true
    },
    "language_info": {
      "name": "python"
    },
    "kernelspec": {
      "name": "python3",
      "display_name": "Python 3"
    }
  },
  "nbformat": 4,
  "nbformat_minor": 5
}